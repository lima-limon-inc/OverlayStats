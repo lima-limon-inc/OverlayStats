{
 "cells": [
  {
   "cell_type": "code",
   "execution_count": 7,
   "id": "40e3f221",
   "metadata": {},
   "outputs": [],
   "source": [
    "import pandas\n",
    "import subprocess\n",
    "import os.path\n",
    "import xml.etree.ElementTree as ET"
   ]
  },
  {
   "cell_type": "code",
   "execution_count": 9,
   "id": "87f598c8",
   "metadata": {},
   "outputs": [
    {
     "data": {
      "text/plain": [
       "True"
      ]
     },
     "execution_count": 9,
     "metadata": {},
     "output_type": "execute_result"
    }
   ],
   "source": [
    "isdir = os.path.isdir('overlays/cg')\n",
    "isdir"
   ]
  },
  {
   "cell_type": "code",
   "execution_count": 2,
   "id": "23ce5916",
   "metadata": {},
   "outputs": [],
   "source": [
    "tree = ET.parse('repositories.xml')\n",
    "root = tree.getroot()"
   ]
  },
  {
   "cell_type": "code",
   "execution_count": 13,
   "id": "f9025732",
   "metadata": {},
   "outputs": [
    {
     "name": "stderr",
     "output_type": "stream",
     "text": [
      "Cloning into '4nykey'...\n",
      "mv: cannot stat 'name': No such file or directory\n"
     ]
    }
   ],
   "source": [
    "for child in root:\n",
    "    for quality in range(len(child)):\n",
    "        qualityValue = child[quality].tag\n",
    "        if qualityValue != \"source\":\n",
    "            continue\n",
    "        gitDirectory = child[quality].text\n",
    "#         gitRepoName = gitDirectory.split('/')[-1][0:-4]\n",
    "        gitRepoName = child[0].tag\n",
    "        \n",
    "        if os.path.isdir('overlays/' + gitRepoName) == True:\n",
    "            continue\n",
    "\n",
    "        subprocess.run([\"git\", \"clone\", gitDirectory]) \n",
    "        subprocess.run([\"mv\", gitRepoName, \"overlays/\"]) \n",
    "\n",
    "        break\n",
    "        \n",
    "        print(child[quality].text)\n",
    "    break\n"
   ]
  },
  {
   "cell_type": "code",
   "execution_count": null,
   "id": "93c6afe6",
   "metadata": {},
   "outputs": [],
   "source": []
  },
  {
   "cell_type": "code",
   "execution_count": null,
   "id": "748b7d26",
   "metadata": {},
   "outputs": [],
   "source": []
  },
  {
   "cell_type": "code",
   "execution_count": null,
   "id": "37269939",
   "metadata": {},
   "outputs": [],
   "source": []
  }
 ],
 "metadata": {
  "kernelspec": {
   "display_name": "Python 3 (ipykernel)",
   "language": "python",
   "name": "python3"
  },
  "language_info": {
   "codemirror_mode": {
    "name": "ipython",
    "version": 3
   },
   "file_extension": ".py",
   "mimetype": "text/x-python",
   "name": "python",
   "nbconvert_exporter": "python",
   "pygments_lexer": "ipython3",
   "version": "3.11.4"
  }
 },
 "nbformat": 4,
 "nbformat_minor": 5
}
