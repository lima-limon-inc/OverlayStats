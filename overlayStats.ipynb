{
 "cells": [
  {
   "cell_type": "code",
   "execution_count": 4,
   "id": "40e3f221",
   "metadata": {},
   "outputs": [],
   "source": [
    "import pandas as pd\n",
    "import subprocess\n",
    "import os.path\n",
    "import xml.etree.ElementTree as ET"
   ]
  },
  {
   "cell_type": "code",
   "execution_count": 2,
   "id": "f9025732",
   "metadata": {},
   "outputs": [],
   "source": [
    "def cloneOverlays(repositoriesXML:str, destination:str):\n",
    "    tree = ET.parse('repositories.xml')\n",
    "    root = tree.getroot()\n",
    "    for child in root:\n",
    "        for quality in range(len(child)):\n",
    "            qualityValue = child[quality].tag\n",
    "            if qualityValue != \"source\":\n",
    "                continue\n",
    "            gitDirectory = child[quality].text\n",
    "\n",
    "            gitRepoName = gitDirectory.split('/')[-1]\n",
    "            gitRepoName = gitRepoName.replace('.git',\"\")\n",
    "\n",
    "            if os.path.isdir(destination + gitRepoName) == True:\n",
    "                print('Already done')\n",
    "                continue\n",
    "\n",
    "            subprocess.run([\"git\", \"clone\", gitDirectory]) \n",
    "            subprocess.run([\"mv\", gitRepoName, \"overlays/\"]) \n",
    "\n",
    "            break\n",
    "\n",
    "            print(child[quality].text)\n",
    "            \n",
    "# cloneOverlays('repositories.xml', 'overlays/')"
   ]
  },
  {
   "cell_type": "code",
   "execution_count": 3,
   "id": "93c6afe6",
   "metadata": {},
   "outputs": [],
   "source": [
    "def removeGitDirectories(source:str):\n",
    "    for filename in os.listdir(source):\n",
    "        print(filename)\n",
    "        gitDirectory = source + filename + \"/.git\"\n",
    "        subprocess.run([\"rm\", \"-rf\", gitDirectory])\n",
    "\n",
    "# removeGitDirectories(\"overlays/\")"
   ]
  },
  {
   "cell_type": "code",
   "execution_count": null,
   "id": "748b7d26",
   "metadata": {},
   "outputs": [],
   "source": []
  },
  {
   "cell_type": "code",
   "execution_count": null,
   "id": "37269939",
   "metadata": {},
   "outputs": [],
   "source": []
  }
 ],
 "metadata": {
  "kernelspec": {
   "display_name": "Python 3 (ipykernel)",
   "language": "python",
   "name": "python3"
  },
  "language_info": {
   "codemirror_mode": {
    "name": "ipython",
    "version": 3
   },
   "file_extension": ".py",
   "mimetype": "text/x-python",
   "name": "python",
   "nbconvert_exporter": "python",
   "pygments_lexer": "ipython3",
   "version": "3.11.4"
  }
 },
 "nbformat": 4,
 "nbformat_minor": 5
}
